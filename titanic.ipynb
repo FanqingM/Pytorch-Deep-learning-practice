{
 "metadata": {
  "language_info": {
   "codemirror_mode": {
    "name": "ipython",
    "version": 3
   },
   "file_extension": ".py",
   "mimetype": "text/x-python",
   "name": "python",
   "nbconvert_exporter": "python",
   "pygments_lexer": "ipython3",
   "version": "3.8.2"
  },
  "orig_nbformat": 2,
  "kernelspec": {
   "name": "python3",
   "display_name": "Python 3.8.2 64-bit ('base': conda)",
   "metadata": {
    "interpreter": {
     "hash": "5afca213e3fd4a905a1ee04cf013c4a2a70ed6bf52820ba3c074a5841fff5c71"
    }
   }
  }
 },
 "nbformat": 4,
 "nbformat_minor": 2,
 "cells": [
  {
   "cell_type": "code",
   "execution_count": 54,
   "metadata": {},
   "outputs": [
    {
     "output_type": "execute_result",
     "data": {
      "text/plain": [
       "0                                Braund, Mr. Owen Harris\n",
       "1      Cumings, Mrs. John Bradley (Florence Briggs Th...\n",
       "2                                 Heikkinen, Miss. Laina\n",
       "3           Futrelle, Mrs. Jacques Heath (Lily May Peel)\n",
       "4                               Allen, Mr. William Henry\n",
       "                             ...                        \n",
       "886                                Montvila, Rev. Juozas\n",
       "887                         Graham, Miss. Margaret Edith\n",
       "888             Johnston, Miss. Catherine Helen \"Carrie\"\n",
       "889                                Behr, Mr. Karl Howell\n",
       "890                                  Dooley, Mr. Patrick\n",
       "Name: Name, Length: 891, dtype: object"
      ]
     },
     "metadata": {},
     "execution_count": 54
    }
   ],
   "source": [
    "# 先看看数据集的基本信息\n",
    "import pandas as pd\n",
    "import numpy as np\n",
    "data = pd.read_csv(\"./titanic/train.csv\")\n",
    "\n",
    "#print(data.head())\n",
    "data['Name']\n",
    "##Age 年龄\n",
    "##Cabin 船舱号\n",
    "##Embarked 登船港口\n",
    "##Fare 票价\n",
    "##Name 乘客姓名\n",
    "##Parch 不同代直系亲属人数\n",
    "##SibSp 同代直系亲属人数\n",
    "##PassengerId 乘客ID\n",
    "##Pclass 客舱等级\n",
    "##Sex 性别\n",
    "##Ticket 船票编号\n",
    "##Survived 存活情况"
   ]
  },
  {
   "cell_type": "code",
   "execution_count": 43,
   "metadata": {},
   "outputs": [],
   "source": [
    "# 删除name\n",
    "data = data.drop(columns=['Name'])"
   ]
  },
  {
   "cell_type": "code",
   "execution_count": 28,
   "metadata": {},
   "outputs": [],
   "source": [
    "# 首先进行数据清洗\n",
    "## 缺失值处理\n",
    "## 异常值处理\n",
    "## 数据类型转化"
   ]
  },
  {
   "cell_type": "code",
   "execution_count": 44,
   "metadata": {},
   "outputs": [
    {
     "output_type": "stream",
     "name": "stdout",
     "text": [
      "<class 'pandas.core.frame.DataFrame'>\nRangeIndex: 891 entries, 0 to 890\nData columns (total 11 columns):\n #   Column       Non-Null Count  Dtype  \n---  ------       --------------  -----  \n 0   PassengerId  891 non-null    int64  \n 1   Survived     891 non-null    int64  \n 2   Pclass       891 non-null    int64  \n 3   Sex          891 non-null    object \n 4   Age          891 non-null    float64\n 5   SibSp        891 non-null    int64  \n 6   Parch        891 non-null    int64  \n 7   Ticket       891 non-null    object \n 8   Fare         891 non-null    float64\n 9   Cabin        204 non-null    object \n 10  Embarked     891 non-null    object \ndtypes: float64(2), int64(5), object(4)\nmemory usage: 76.7+ KB\n"
     ]
    }
   ],
   "source": [
    "## 缺失值处理\n",
    "### 一般套路就是数值型用中位数填充，离散型用众数填充\n",
    "data.info()\n",
    "### 可以看出缺失值在Age，Cabin，Embarked上，后两者是分类变量，前面是数值的"
   ]
  },
  {
   "cell_type": "code",
   "execution_count": 45,
   "metadata": {},
   "outputs": [
    {
     "output_type": "execute_result",
     "data": {
      "text/plain": [
       "0"
      ]
     },
     "metadata": {},
     "execution_count": 45
    }
   ],
   "source": [
    "## 对age我们用中位数填充\n",
    "age=data['Age'].values.reshape(-1,1)         #取出缺失值所在列的数值，sklearn当中特征矩阵必须是二维才能传入 使用reshape(-1,1)升维\n",
    "\n",
    "from sklearn.impute import SimpleImputer     #导入模块\n",
    "imp_median=SimpleImputer(missing_values=np.nan,strategy='median')    #实例化，中值填充\n",
    "imp_median=imp_median.fit_transform(age)     #fit_transform一步完成调取结果\n",
    "\n",
    "data['Age']=imp_median       #填充好的数据传回到 data['Age']列\n",
    "\n",
    "data['Age'].isnull().sum()   #检验是否还有空值，为0即说明空值均已被填充"
   ]
  },
  {
   "cell_type": "code",
   "execution_count": 46,
   "metadata": {},
   "outputs": [
    {
     "output_type": "stream",
     "name": "stdout",
     "text": [
      "<class 'pandas.core.frame.DataFrame'>\nRangeIndex: 891 entries, 0 to 890\nData columns (total 11 columns):\n #   Column       Non-Null Count  Dtype  \n---  ------       --------------  -----  \n 0   PassengerId  891 non-null    int64  \n 1   Survived     891 non-null    int64  \n 2   Pclass       891 non-null    int64  \n 3   Sex          891 non-null    object \n 4   Age          891 non-null    float64\n 5   SibSp        891 non-null    int64  \n 6   Parch        891 non-null    int64  \n 7   Ticket       891 non-null    object \n 8   Fare         891 non-null    float64\n 9   Cabin        204 non-null    object \n 10  Embarked     891 non-null    object \ndtypes: float64(2), int64(5), object(4)\nmemory usage: 76.7+ KB\n"
     ]
    }
   ],
   "source": [
    "data.info()"
   ]
  },
  {
   "cell_type": "code",
   "execution_count": 47,
   "metadata": {},
   "outputs": [
    {
     "output_type": "execute_result",
     "data": {
      "text/plain": [
       "0"
      ]
     },
     "metadata": {},
     "execution_count": 47
    }
   ],
   "source": [
    "## 对于Embarked我们用众数填充\n",
    "age=data['Embarked'].values.reshape(-1,1)  #取出缺失值所在列的数值，sklearn当中特征矩阵必须是二维才能传入 使用reshape(-1,1)升维\n",
    "\n",
    "from sklearn.impute import SimpleImputer #导入模块\n",
    "imp_most_frequent=SimpleImputer(missing_values=np.nan,strategy='most_frequent')  #实例化，众数填充\n",
    "imp_most_frequent=imp_most_frequent.fit_transform(age)     #fit_transform一步完成调取结果\n",
    "\n",
    "data['Embarked']=imp_most_frequent       #填充好的数据传回到 data['Age']列\n",
    "\n",
    "data['Embarked'].isnull().sum()          #检验是否还有空值，为0即说明空值均已被填充"
   ]
  },
  {
   "cell_type": "code",
   "execution_count": 48,
   "metadata": {},
   "outputs": [
    {
     "output_type": "stream",
     "name": "stdout",
     "text": [
      "<class 'pandas.core.frame.DataFrame'>\nRangeIndex: 891 entries, 0 to 890\nData columns (total 11 columns):\n #   Column       Non-Null Count  Dtype  \n---  ------       --------------  -----  \n 0   PassengerId  891 non-null    int64  \n 1   Survived     891 non-null    int64  \n 2   Pclass       891 non-null    int64  \n 3   Sex          891 non-null    object \n 4   Age          891 non-null    float64\n 5   SibSp        891 non-null    int64  \n 6   Parch        891 non-null    int64  \n 7   Ticket       891 non-null    object \n 8   Fare         891 non-null    float64\n 9   Cabin        204 non-null    object \n 10  Embarked     891 non-null    object \ndtypes: float64(2), int64(5), object(4)\nmemory usage: 76.7+ KB\n"
     ]
    }
   ],
   "source": [
    "data.info()"
   ]
  },
  {
   "cell_type": "code",
   "execution_count": 49,
   "metadata": {},
   "outputs": [],
   "source": [
    "## 对于Cabin由于缺失值太多，我们这里先去掉他\n",
    "data = data.drop(columns=['Cabin'])"
   ]
  },
  {
   "cell_type": "code",
   "execution_count": 50,
   "metadata": {},
   "outputs": [
    {
     "output_type": "stream",
     "name": "stdout",
     "text": [
      "<class 'pandas.core.frame.DataFrame'>\nRangeIndex: 891 entries, 0 to 890\nData columns (total 10 columns):\n #   Column       Non-Null Count  Dtype  \n---  ------       --------------  -----  \n 0   PassengerId  891 non-null    int64  \n 1   Survived     891 non-null    int64  \n 2   Pclass       891 non-null    int64  \n 3   Sex          891 non-null    object \n 4   Age          891 non-null    float64\n 5   SibSp        891 non-null    int64  \n 6   Parch        891 non-null    int64  \n 7   Ticket       891 non-null    object \n 8   Fare         891 non-null    float64\n 9   Embarked     891 non-null    object \ndtypes: float64(2), int64(5), object(3)\nmemory usage: 69.7+ KB\n"
     ]
    }
   ],
   "source": [
    "data.info()"
   ]
  },
  {
   "cell_type": "code",
   "execution_count": 52,
   "metadata": {},
   "outputs": [],
   "source": [
    "\n",
    "## 下面做数据类型转换\n",
    "### 数值型\n",
    "data['PassengerId'] = data['PassengerId'].astype('float64')\n",
    "data['Survived'] = data['Survived'].astype('float64')\n",
    "data['Pclass'] = data['Pclass'].astype('float64')\n",
    "data['SibSp'] = data['SibSp'].astype('float64')\n",
    "data['Parch'] = data['Parch'].astype('float64')"
   ]
  },
  {
   "cell_type": "code",
   "execution_count": 53,
   "metadata": {},
   "outputs": [
    {
     "output_type": "execute_result",
     "data": {
      "text/plain": [
       "0             A/5 21171\n",
       "1              PC 17599\n",
       "2      STON/O2. 3101282\n",
       "3                113803\n",
       "4                373450\n",
       "             ...       \n",
       "886              211536\n",
       "887              112053\n",
       "888          W./C. 6607\n",
       "889              111369\n",
       "890              370376\n",
       "Name: Ticket, Length: 891, dtype: object"
      ]
     },
     "metadata": {},
     "execution_count": 53
    }
   ],
   "source": [
    "data['Ticket']"
   ]
  },
  {
   "cell_type": "code",
   "execution_count": null,
   "metadata": {},
   "outputs": [],
   "source": []
  }
 ]
}