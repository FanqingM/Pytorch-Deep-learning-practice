{
 "metadata": {
  "language_info": {
   "codemirror_mode": {
    "name": "ipython",
    "version": 3
   },
   "file_extension": ".py",
   "mimetype": "text/x-python",
   "name": "python",
   "nbconvert_exporter": "python",
   "pygments_lexer": "ipython3",
   "version": "3.8.2"
  },
  "orig_nbformat": 2,
  "kernelspec": {
   "name": "python3",
   "display_name": "Python 3.8.2 64-bit ('base': conda)",
   "metadata": {
    "interpreter": {
     "hash": "5afca213e3fd4a905a1ee04cf013c4a2a70ed6bf52820ba3c074a5841fff5c71"
    }
   }
  }
 },
 "nbformat": 4,
 "nbformat_minor": 2,
 "cells": [
  {
   "cell_type": "code",
   "execution_count": 2,
   "metadata": {},
   "outputs": [],
   "source": [
    "import torch\n",
    "import numpy as np\n",
    "from torch.utils.data import Dataset\n",
    "from torch.utils.data import DataLoader\n",
    "from sklearn.model_selection import train_test_split\n",
    " \n",
    " \n",
    "# 读取原始数据，并划分训练集和测试集\n",
    "raw_data = np.loadtxt('diabetes.csv', delimiter=',', dtype=np.float32)\n",
    "X = raw_data[:, :-1]\n",
    "y = raw_data[:, [-1]]\n",
    "Xtrain, Xtest, Ytrain, Ytest = train_test_split(X,y,test_size=0.25)     #8:2比较好\n",
    "Xtest = torch.from_numpy(Xtest)  # array转torch，才能送到pytorch里面\n",
    "Ytest = torch.from_numpy(Ytest)"
   ]
  },
  {
   "cell_type": "code",
   "execution_count": 5,
   "metadata": {},
   "outputs": [
    {
     "output_type": "execute_result",
     "data": {
      "text/plain": [
       "tensor([[-0.8824,  0.0352,  0.3115,  ..., -0.4218, -0.6473, -0.9667],\n",
       "        [-0.0588,  0.1055,  0.2459,  ..., -0.1714, -0.8642,  0.2333],\n",
       "        [-0.2941,  0.0000,  0.1148,  ...,  0.1624, -0.4458, -0.3333],\n",
       "        ...,\n",
       "        [-0.5294,  0.2563,  0.3115,  ..., -0.0373, -0.6089, -0.8000],\n",
       "        [-0.5294, -0.0452, -0.0164,  ...,  0.0551, -0.8241, -0.7667],\n",
       "        [-0.5294,  0.2362,  0.3115,  ..., -0.0462, -0.6883, -0.5667]])"
      ]
     },
     "metadata": {},
     "execution_count": 5
    }
   ],
   "source": [
    "Xtest"
   ]
  },
  {
   "cell_type": "code",
   "execution_count": null,
   "metadata": {},
   "outputs": [],
   "source": []
  }
 ]
}