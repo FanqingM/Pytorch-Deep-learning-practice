{
 "metadata": {
  "language_info": {
   "codemirror_mode": {
    "name": "ipython",
    "version": 3
   },
   "file_extension": ".py",
   "mimetype": "text/x-python",
   "name": "python",
   "nbconvert_exporter": "python",
   "pygments_lexer": "ipython3",
   "version": "3.8.2"
  },
  "orig_nbformat": 2,
  "kernelspec": {
   "name": "python3",
   "display_name": "Python 3.8.2 64-bit ('base': conda)",
   "metadata": {
    "interpreter": {
     "hash": "5afca213e3fd4a905a1ee04cf013c4a2a70ed6bf52820ba3c074a5841fff5c71"
    }
   }
  }
 },
 "nbformat": 4,
 "nbformat_minor": 2,
 "cells": [
  {
   "cell_type": "code",
   "execution_count": 6,
   "metadata": {},
   "outputs": [
    {
     "output_type": "stream",
     "name": "stdout",
     "text": [
      "<class 'pandas.core.frame.DataFrame'>\nRangeIndex: 758 entries, 0 to 757\nData columns (total 9 columns):\n #   Column      Non-Null Count  Dtype  \n---  ------      --------------  -----  \n 0   -0.294118   758 non-null    float64\n 1   0.487437    758 non-null    float64\n 2   0.180328    758 non-null    float64\n 3   -0.292929   758 non-null    float64\n 4   0           758 non-null    float64\n 5   0.00149028  758 non-null    float64\n 6   -0.53117    758 non-null    float64\n 7   -0.0333333  758 non-null    float64\n 8   0.1         758 non-null    int64  \ndtypes: float64(8), int64(1)\nmemory usage: 53.4 KB\n"
     ]
    }
   ],
   "source": [
    "import torch\n",
    "import numpy as np\n",
    "import pandas as pd\n",
    "from torch.utils.data import Dataset\n",
    "from torch.utils.data import DataLoader\n",
    "from sklearn.model_selection import train_test_split\n",
    "\n",
    "# 我们先进行特征工程\n",
    "## 该数据已经是经过标准化之后的了\n",
    "data = pd.read_csv(\"diabetes.csv\")\n",
    "data.info()\n",
    "\n",
    "# # 读取原始数据，并划分训练集和测试集\n",
    "# raw_data = np.loadtxt('diabetes.csv', delimiter=',', dtype=np.float32)\n",
    "# X = raw_data[:, :-1]\n",
    "# y = raw_data[:, [-1]]\n",
    "# Xtrain, Xtest, Ytrain, Ytest = train_test_split(X,y,test_size=0.25)     #8:2比较好\n",
    "# Xtest = torch.from_numpy(Xtest)  # array转torch，才能送到pytorch里面\n",
    "# Ytest = torch.from_numpy(Ytest)"
   ]
  },
  {
   "cell_type": "code",
   "execution_count": 8,
   "metadata": {},
   "outputs": [
    {
     "output_type": "execute_result",
     "data": {
      "text/plain": [
       "     -0.294118  0.487437  0.180328  ...  -0.53117  -0.0333333  0.1\n",
       "0    -0.882353 -0.145729  0.081967  ... -0.766866   -0.666667    1\n",
       "1    -0.058824  0.839196  0.049180  ... -0.492741   -0.633333    0\n",
       "2    -0.882353 -0.105528  0.081967  ... -0.923997    0.000000    1\n",
       "3     0.000000  0.376884 -0.344262  ...  0.887276   -0.600000    0\n",
       "4    -0.411765  0.165829  0.213115  ... -0.894962   -0.700000    1\n",
       "..         ...       ...       ...  ...       ...         ...  ...\n",
       "753   0.176471  0.015075  0.245902  ... -0.920581    0.400000    1\n",
       "754  -0.764706  0.226131  0.147541  ... -0.776260   -0.800000    1\n",
       "755  -0.411765  0.216080  0.180328  ... -0.857387   -0.700000    1\n",
       "756  -0.882353  0.266332 -0.016393  ... -0.768574   -0.133333    0\n",
       "757  -0.882353 -0.065327  0.147541  ... -0.797609   -0.933333    1\n",
       "\n",
       "[758 rows x 9 columns]"
      ],
      "text/html": "<div>\n<style scoped>\n    .dataframe tbody tr th:only-of-type {\n        vertical-align: middle;\n    }\n\n    .dataframe tbody tr th {\n        vertical-align: top;\n    }\n\n    .dataframe thead th {\n        text-align: right;\n    }\n</style>\n<table border=\"1\" class=\"dataframe\">\n  <thead>\n    <tr style=\"text-align: right;\">\n      <th></th>\n      <th>-0.294118</th>\n      <th>0.487437</th>\n      <th>0.180328</th>\n      <th>-0.292929</th>\n      <th>0</th>\n      <th>0.00149028</th>\n      <th>-0.53117</th>\n      <th>-0.0333333</th>\n      <th>0.1</th>\n    </tr>\n  </thead>\n  <tbody>\n    <tr>\n      <th>0</th>\n      <td>-0.882353</td>\n      <td>-0.145729</td>\n      <td>0.081967</td>\n      <td>-0.414141</td>\n      <td>0.000000</td>\n      <td>-0.207153</td>\n      <td>-0.766866</td>\n      <td>-0.666667</td>\n      <td>1</td>\n    </tr>\n    <tr>\n      <th>1</th>\n      <td>-0.058824</td>\n      <td>0.839196</td>\n      <td>0.049180</td>\n      <td>0.000000</td>\n      <td>0.000000</td>\n      <td>-0.305514</td>\n      <td>-0.492741</td>\n      <td>-0.633333</td>\n      <td>0</td>\n    </tr>\n    <tr>\n      <th>2</th>\n      <td>-0.882353</td>\n      <td>-0.105528</td>\n      <td>0.081967</td>\n      <td>-0.535354</td>\n      <td>-0.777778</td>\n      <td>-0.162444</td>\n      <td>-0.923997</td>\n      <td>0.000000</td>\n      <td>1</td>\n    </tr>\n    <tr>\n      <th>3</th>\n      <td>0.000000</td>\n      <td>0.376884</td>\n      <td>-0.344262</td>\n      <td>-0.292929</td>\n      <td>-0.602837</td>\n      <td>0.284650</td>\n      <td>0.887276</td>\n      <td>-0.600000</td>\n      <td>0</td>\n    </tr>\n    <tr>\n      <th>4</th>\n      <td>-0.411765</td>\n      <td>0.165829</td>\n      <td>0.213115</td>\n      <td>0.000000</td>\n      <td>0.000000</td>\n      <td>-0.236960</td>\n      <td>-0.894962</td>\n      <td>-0.700000</td>\n      <td>1</td>\n    </tr>\n    <tr>\n      <th>...</th>\n      <td>...</td>\n      <td>...</td>\n      <td>...</td>\n      <td>...</td>\n      <td>...</td>\n      <td>...</td>\n      <td>...</td>\n      <td>...</td>\n      <td>...</td>\n    </tr>\n    <tr>\n      <th>753</th>\n      <td>0.176471</td>\n      <td>0.015075</td>\n      <td>0.245902</td>\n      <td>-0.030303</td>\n      <td>-0.574468</td>\n      <td>-0.019374</td>\n      <td>-0.920581</td>\n      <td>0.400000</td>\n      <td>1</td>\n    </tr>\n    <tr>\n      <th>754</th>\n      <td>-0.764706</td>\n      <td>0.226131</td>\n      <td>0.147541</td>\n      <td>-0.454545</td>\n      <td>0.000000</td>\n      <td>0.096870</td>\n      <td>-0.776260</td>\n      <td>-0.800000</td>\n      <td>1</td>\n    </tr>\n    <tr>\n      <th>755</th>\n      <td>-0.411765</td>\n      <td>0.216080</td>\n      <td>0.180328</td>\n      <td>-0.535354</td>\n      <td>-0.735225</td>\n      <td>-0.219076</td>\n      <td>-0.857387</td>\n      <td>-0.700000</td>\n      <td>1</td>\n    </tr>\n    <tr>\n      <th>756</th>\n      <td>-0.882353</td>\n      <td>0.266332</td>\n      <td>-0.016393</td>\n      <td>0.000000</td>\n      <td>0.000000</td>\n      <td>-0.102832</td>\n      <td>-0.768574</td>\n      <td>-0.133333</td>\n      <td>0</td>\n    </tr>\n    <tr>\n      <th>757</th>\n      <td>-0.882353</td>\n      <td>-0.065327</td>\n      <td>0.147541</td>\n      <td>-0.373737</td>\n      <td>0.000000</td>\n      <td>-0.093890</td>\n      <td>-0.797609</td>\n      <td>-0.933333</td>\n      <td>1</td>\n    </tr>\n  </tbody>\n</table>\n<p>758 rows × 9 columns</p>\n</div>"
     },
     "metadata": {},
     "execution_count": 8
    }
   ],
   "source": [
    "data"
   ]
  },
  {
   "cell_type": "code",
   "execution_count": 9,
   "metadata": {},
   "outputs": [
    {
     "output_type": "execute_result",
     "data": {
      "text/plain": [
       "            -0.294118  0.487437  0.180328  ...  -0.53117  -0.0333333       0.1\n",
       "-0.294118    1.000000  0.143342  0.224508  ...  0.020092    0.286351 -0.218156\n",
       "0.487437     0.143342  1.000000  0.218257  ...  0.130264    0.172119 -0.487703\n",
       "0.180328     0.224508  0.218257  1.000000  ...  0.000987    0.229498 -0.151862\n",
       "-0.292929    0.212215  0.168021  0.171751  ... -0.032794    0.140961 -0.195241\n",
       "0            0.186578  0.202998  0.126856  ... -0.078075    0.218910 -0.157560\n",
       "0.00149028   0.166938  0.231148  0.271711  ...  0.148917   -0.068091 -0.312509\n",
       "-0.53117     0.020092  0.130264  0.000987  ...  1.000000    0.010858 -0.162625\n",
       "-0.0333333   0.286351  0.172119  0.229498  ...  0.010858    1.000000 -0.110625\n",
       "0.1         -0.218156 -0.487703 -0.151862  ... -0.162625   -0.110625  1.000000\n",
       "\n",
       "[9 rows x 9 columns]"
      ],
      "text/html": "<div>\n<style scoped>\n    .dataframe tbody tr th:only-of-type {\n        vertical-align: middle;\n    }\n\n    .dataframe tbody tr th {\n        vertical-align: top;\n    }\n\n    .dataframe thead th {\n        text-align: right;\n    }\n</style>\n<table border=\"1\" class=\"dataframe\">\n  <thead>\n    <tr style=\"text-align: right;\">\n      <th></th>\n      <th>-0.294118</th>\n      <th>0.487437</th>\n      <th>0.180328</th>\n      <th>-0.292929</th>\n      <th>0</th>\n      <th>0.00149028</th>\n      <th>-0.53117</th>\n      <th>-0.0333333</th>\n      <th>0.1</th>\n    </tr>\n  </thead>\n  <tbody>\n    <tr>\n      <th>-0.294118</th>\n      <td>1.000000</td>\n      <td>0.143342</td>\n      <td>0.224508</td>\n      <td>0.212215</td>\n      <td>0.186578</td>\n      <td>0.166938</td>\n      <td>0.020092</td>\n      <td>0.286351</td>\n      <td>-0.218156</td>\n    </tr>\n    <tr>\n      <th>0.487437</th>\n      <td>0.143342</td>\n      <td>1.000000</td>\n      <td>0.218257</td>\n      <td>0.168021</td>\n      <td>0.202998</td>\n      <td>0.231148</td>\n      <td>0.130264</td>\n      <td>0.172119</td>\n      <td>-0.487703</td>\n    </tr>\n    <tr>\n      <th>0.180328</th>\n      <td>0.224508</td>\n      <td>0.218257</td>\n      <td>1.000000</td>\n      <td>0.171751</td>\n      <td>0.126856</td>\n      <td>0.271711</td>\n      <td>0.000987</td>\n      <td>0.229498</td>\n      <td>-0.151862</td>\n    </tr>\n    <tr>\n      <th>-0.292929</th>\n      <td>0.212215</td>\n      <td>0.168021</td>\n      <td>0.171751</td>\n      <td>1.000000</td>\n      <td>0.466450</td>\n      <td>0.302790</td>\n      <td>-0.032794</td>\n      <td>0.140961</td>\n      <td>-0.195241</td>\n    </tr>\n    <tr>\n      <th>0</th>\n      <td>0.186578</td>\n      <td>0.202998</td>\n      <td>0.126856</td>\n      <td>0.466450</td>\n      <td>1.000000</td>\n      <td>0.012361</td>\n      <td>-0.078075</td>\n      <td>0.218910</td>\n      <td>-0.157560</td>\n    </tr>\n    <tr>\n      <th>0.00149028</th>\n      <td>0.166938</td>\n      <td>0.231148</td>\n      <td>0.271711</td>\n      <td>0.302790</td>\n      <td>0.012361</td>\n      <td>1.000000</td>\n      <td>0.148917</td>\n      <td>-0.068091</td>\n      <td>-0.312509</td>\n    </tr>\n    <tr>\n      <th>-0.53117</th>\n      <td>0.020092</td>\n      <td>0.130264</td>\n      <td>0.000987</td>\n      <td>-0.032794</td>\n      <td>-0.078075</td>\n      <td>0.148917</td>\n      <td>1.000000</td>\n      <td>0.010858</td>\n      <td>-0.162625</td>\n    </tr>\n    <tr>\n      <th>-0.0333333</th>\n      <td>0.286351</td>\n      <td>0.172119</td>\n      <td>0.229498</td>\n      <td>0.140961</td>\n      <td>0.218910</td>\n      <td>-0.068091</td>\n      <td>0.010858</td>\n      <td>1.000000</td>\n      <td>-0.110625</td>\n    </tr>\n    <tr>\n      <th>0.1</th>\n      <td>-0.218156</td>\n      <td>-0.487703</td>\n      <td>-0.151862</td>\n      <td>-0.195241</td>\n      <td>-0.157560</td>\n      <td>-0.312509</td>\n      <td>-0.162625</td>\n      <td>-0.110625</td>\n      <td>1.000000</td>\n    </tr>\n  </tbody>\n</table>\n</div>"
     },
     "metadata": {},
     "execution_count": 9
    }
   ],
   "source": [
    "data.corr()"
   ]
  },
  {
   "cell_type": "code",
   "execution_count": 10,
   "metadata": {},
   "outputs": [],
   "source": [
    "# 特征相关性分析可视化\n",
    "# Correlation = pd.DataFrame(combined_train_test[\n",
    "#  ['Embarked', 'Sex', 'Title', 'Name_length', 'Family_Size', 'Family_Size_Category','Fare', 'Fare_bin_id', 'Pclass', \n",
    "#   'Pclass_Fare_Category', 'Age', 'Ticket_Letter', 'Cabin']])\n",
    "\n",
    "# colormap = plt.cm.viridis\n",
    "# plt.figure(figsize=(14,12))\n",
    "# plt.title('Pearson Correlation of Features', y=1.05, size=15)\n",
    "# sns.heatmap(Correlation.astype(float).corr(),linewidths=0.1,vmax=1.0, square=True, cmap=colormap, linecolor='white', annot=True)\n",
    "\n"
   ]
  },
  {
   "cell_type": "code",
   "execution_count": 12,
   "metadata": {},
   "outputs": [
    {
     "output_type": "stream",
     "name": "stdout",
     "text": [
      "<class 'numpy.ndarray'>\n<class 'numpy.ndarray'>\n"
     ]
    }
   ],
   "source": [
    "## 如果我们不做特征筛选，直接进网络\n",
    "import numpy as np\n",
    "import torch\n",
    "import matplotlib.pyplot as plt\n",
    " \n",
    "# prepare dataset\n",
    "xy = np.loadtxt('diabetes.csv', delimiter=',', dtype=np.float32)\n",
    "print(type(xy))\n",
    "print(type(data.values))\n",
    "## 可以看出我们用pandas和用loadtxt读取数据集本质上是等价的\n"
   ]
  },
  {
   "cell_type": "code",
   "execution_count": 13,
   "metadata": {},
   "outputs": [
    {
     "output_type": "stream",
     "name": "stdout",
     "text": [
      "[[-0.294118   0.487437   0.180328  ... -0.53117   -0.0333333  0.       ]\n [-0.882353  -0.145729   0.0819672 ... -0.766866  -0.666667   1.       ]\n [-0.0588235  0.839196   0.0491803 ... -0.492741  -0.633333   0.       ]\n ...\n [-0.411765   0.21608    0.180328  ... -0.857387  -0.7        1.       ]\n [-0.882353   0.266332  -0.0163934 ... -0.768574  -0.133333   0.       ]\n [-0.882353  -0.0653266  0.147541  ... -0.797609  -0.933333   1.       ]]\n"
     ]
    }
   ],
   "source": [
    "print(xy)"
   ]
  },
  {
   "cell_type": "code",
   "execution_count": 14,
   "metadata": {},
   "outputs": [
    {
     "output_type": "stream",
     "name": "stdout",
     "text": [
      "[[-0.882353  -0.145729   0.0819672 ... -0.766866  -0.666667   1.       ]\n [-0.0588235  0.839196   0.0491803 ... -0.492741  -0.633333   0.       ]\n [-0.882353  -0.105528   0.0819672 ... -0.923997   0.         1.       ]\n ...\n [-0.411765   0.21608    0.180328  ... -0.857387  -0.7        1.       ]\n [-0.882353   0.266332  -0.0163934 ... -0.768574  -0.133333   0.       ]\n [-0.882353  -0.0653266  0.147541  ... -0.797609  -0.933333   1.       ]]\n"
     ]
    }
   ],
   "source": [
    "print(data.values)"
   ]
  },
  {
   "cell_type": "code",
   "execution_count": 15,
   "metadata": {},
   "outputs": [],
   "source": [
    "# 但是pandas会把第一行默认当作标签，就少了数据了\n"
   ]
  },
  {
   "cell_type": "code",
   "execution_count": null,
   "metadata": {},
   "outputs": [],
   "source": []
  }
 ]
}